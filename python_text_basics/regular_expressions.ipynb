{
 "cells": [
  {
   "cell_type": "code",
   "id": "initial_id",
   "metadata": {
    "collapsed": true,
    "ExecuteTime": {
     "end_time": "2024-05-30T08:03:20.928673Z",
     "start_time": "2024-05-30T08:03:20.913659Z"
    }
   },
   "source": "text = \"The phone number of the agent is 408-555-1234. Call soon!\"",
   "outputs": [],
   "execution_count": 2
  },
  {
   "metadata": {
    "ExecuteTime": {
     "end_time": "2024-05-30T08:03:20.992732Z",
     "start_time": "2024-05-30T08:03:20.977718Z"
    }
   },
   "cell_type": "code",
   "source": "\"phone\" in text",
   "id": "661f01e4bef96e67",
   "outputs": [
    {
     "data": {
      "text/plain": [
       "True"
      ]
     },
     "execution_count": 3,
     "metadata": {},
     "output_type": "execute_result"
    }
   ],
   "execution_count": 3
  },
  {
   "metadata": {
    "ExecuteTime": {
     "end_time": "2024-05-30T08:03:21.024761Z",
     "start_time": "2024-05-30T08:03:21.019756Z"
    }
   },
   "cell_type": "code",
   "source": "\"408-555-1234\" in text",
   "id": "620fcaae730aaf6",
   "outputs": [
    {
     "data": {
      "text/plain": [
       "True"
      ]
     },
     "execution_count": 4,
     "metadata": {},
     "output_type": "execute_result"
    }
   ],
   "execution_count": 4
  },
  {
   "metadata": {
    "ExecuteTime": {
     "end_time": "2024-05-30T08:03:21.088819Z",
     "start_time": "2024-05-30T08:03:21.075808Z"
    }
   },
   "cell_type": "code",
   "source": "\"503\" in text",
   "id": "178e7422f5eebd26",
   "outputs": [
    {
     "data": {
      "text/plain": [
       "False"
      ]
     },
     "execution_count": 5,
     "metadata": {},
     "output_type": "execute_result"
    }
   ],
   "execution_count": 5
  },
  {
   "metadata": {
    "ExecuteTime": {
     "end_time": "2024-05-30T08:03:21.120849Z",
     "start_time": "2024-05-30T08:03:21.106837Z"
    }
   },
   "cell_type": "code",
   "source": "import re ",
   "id": "93f72bc818f4d97e",
   "outputs": [],
   "execution_count": 6
  },
  {
   "metadata": {
    "ExecuteTime": {
     "end_time": "2024-05-30T08:03:21.168893Z",
     "start_time": "2024-05-30T08:03:21.154880Z"
    }
   },
   "cell_type": "code",
   "source": [
    "pattern = \"phone\"\n",
    "re.search(pattern,text)"
   ],
   "id": "10760f9d13c871b5",
   "outputs": [
    {
     "data": {
      "text/plain": [
       "<re.Match object; span=(4, 9), match='phone'>"
      ]
     },
     "execution_count": 7,
     "metadata": {},
     "output_type": "execute_result"
    }
   ],
   "execution_count": 7
  },
  {
   "metadata": {
    "ExecuteTime": {
     "end_time": "2024-05-30T08:03:21.184907Z",
     "start_time": "2024-05-30T08:03:21.179903Z"
    }
   },
   "cell_type": "code",
   "source": [
    "my_match = re.search(pattern,text)\n",
    "my_match.span()"
   ],
   "id": "dd51a212c0001917",
   "outputs": [
    {
     "data": {
      "text/plain": [
       "(4, 9)"
      ]
     },
     "execution_count": 8,
     "metadata": {},
     "output_type": "execute_result"
    }
   ],
   "execution_count": 8
  },
  {
   "metadata": {
    "ExecuteTime": {
     "end_time": "2024-05-30T08:03:21.200922Z",
     "start_time": "2024-05-30T08:03:21.185908Z"
    }
   },
   "cell_type": "code",
   "source": "my_match.start()",
   "id": "fcc4c77167394057",
   "outputs": [
    {
     "data": {
      "text/plain": [
       "4"
      ]
     },
     "execution_count": 9,
     "metadata": {},
     "output_type": "execute_result"
    }
   ],
   "execution_count": 9
  },
  {
   "metadata": {
    "ExecuteTime": {
     "end_time": "2024-05-30T08:03:21.216936Z",
     "start_time": "2024-05-30T08:03:21.201924Z"
    }
   },
   "cell_type": "code",
   "source": "my_match.end()",
   "id": "dab133f508e2089f",
   "outputs": [
    {
     "data": {
      "text/plain": [
       "9"
      ]
     },
     "execution_count": 10,
     "metadata": {},
     "output_type": "execute_result"
    }
   ],
   "execution_count": 10
  },
  {
   "metadata": {
    "ExecuteTime": {
     "end_time": "2024-05-30T08:03:21.264981Z",
     "start_time": "2024-05-30T08:03:21.248966Z"
    }
   },
   "cell_type": "code",
   "source": "text = \"my phone is a new phone\"",
   "id": "92e1662e277f3163",
   "outputs": [],
   "execution_count": 11
  },
  {
   "metadata": {
    "ExecuteTime": {
     "end_time": "2024-05-30T08:03:21.439141Z",
     "start_time": "2024-05-30T08:03:21.421123Z"
    }
   },
   "cell_type": "code",
   "source": [
    "match = re.search(pattern,text)\n",
    "match.span()"
   ],
   "id": "c3a96414382c0fbf",
   "outputs": [
    {
     "data": {
      "text/plain": [
       "(3, 8)"
      ]
     },
     "execution_count": 12,
     "metadata": {},
     "output_type": "execute_result"
    }
   ],
   "execution_count": 12
  },
  {
   "metadata": {
    "ExecuteTime": {
     "end_time": "2024-05-30T08:03:21.533230Z",
     "start_time": "2024-05-30T08:03:21.525219Z"
    }
   },
   "cell_type": "code",
   "source": "re.findall(\"phone\",text)",
   "id": "1434dfbd0da0e8aa",
   "outputs": [
    {
     "data": {
      "text/plain": [
       "['phone', 'phone']"
      ]
     },
     "execution_count": 13,
     "metadata": {},
     "output_type": "execute_result"
    }
   ],
   "execution_count": 13
  },
  {
   "metadata": {
    "ExecuteTime": {
     "end_time": "2024-05-30T08:03:21.565255Z",
     "start_time": "2024-05-30T08:03:21.548240Z"
    }
   },
   "cell_type": "code",
   "source": [
    "for match in re.finditer(\"phone\",text):\n",
    "    print(match.span())"
   ],
   "id": "ac938aaa51b17a65",
   "outputs": [
    {
     "name": "stdout",
     "output_type": "stream",
     "text": [
      "(3, 8)\n",
      "(18, 23)\n"
     ]
    }
   ],
   "execution_count": 14
  },
  {
   "metadata": {
    "ExecuteTime": {
     "end_time": "2024-05-30T08:03:21.597285Z",
     "start_time": "2024-05-30T08:03:21.589277Z"
    }
   },
   "cell_type": "code",
   "source": "text = \"my telephone number is 777-555-1234\"",
   "id": "efc3b46f84950074",
   "outputs": [],
   "execution_count": 15
  },
  {
   "metadata": {
    "ExecuteTime": {
     "end_time": "2024-05-30T08:03:21.629314Z",
     "start_time": "2024-05-30T08:03:21.613300Z"
    }
   },
   "cell_type": "code",
   "source": [
    "pattern = r'\\d{3}-\\d{3}-\\d{4}'\n",
    "result=re.search(pattern,text)"
   ],
   "id": "3e44a1f00b784be4",
   "outputs": [],
   "execution_count": 16
  },
  {
   "metadata": {
    "ExecuteTime": {
     "end_time": "2024-05-30T08:03:21.645328Z",
     "start_time": "2024-05-30T08:03:21.631316Z"
    }
   },
   "cell_type": "code",
   "source": "result",
   "id": "afa0cd55ecdaa50",
   "outputs": [
    {
     "data": {
      "text/plain": [
       "<re.Match object; span=(23, 35), match='777-555-1234'>"
      ]
     },
     "execution_count": 17,
     "metadata": {},
     "output_type": "execute_result"
    }
   ],
   "execution_count": 17
  },
  {
   "metadata": {
    "ExecuteTime": {
     "end_time": "2024-05-30T08:03:21.661343Z",
     "start_time": "2024-05-30T08:03:21.647331Z"
    }
   },
   "cell_type": "code",
   "source": "result.group()",
   "id": "364feff8a0dff0e7",
   "outputs": [
    {
     "data": {
      "text/plain": [
       "'777-555-1234'"
      ]
     },
     "execution_count": 18,
     "metadata": {},
     "output_type": "execute_result"
    }
   ],
   "execution_count": 18
  },
  {
   "metadata": {
    "ExecuteTime": {
     "end_time": "2024-05-30T08:05:04.776666Z",
     "start_time": "2024-05-30T08:05:04.771661Z"
    }
   },
   "cell_type": "code",
   "source": "re.search(r\"man|woman\",\"This woman was here\")",
   "id": "f31289f6d02441bb",
   "outputs": [
    {
     "data": {
      "text/plain": [
       "<re.Match object; span=(5, 10), match='woman'>"
      ]
     },
     "execution_count": 19,
     "metadata": {},
     "output_type": "execute_result"
    }
   ],
   "execution_count": 19
  },
  {
   "metadata": {
    "ExecuteTime": {
     "end_time": "2024-05-30T08:09:25.837773Z",
     "start_time": "2024-05-30T08:09:25.821757Z"
    }
   },
   "cell_type": "code",
   "source": "re.findall(r\".at\",\"The cat in the hat sat\")  # . one wild card, it means get the expressions matching with maksimum 3 letter that it contains at in inside",
   "id": "ad623521c71563a7",
   "outputs": [
    {
     "data": {
      "text/plain": [
       "['cat', 'hat', 'sat']"
      ]
     },
     "execution_count": 22,
     "metadata": {},
     "output_type": "execute_result"
    }
   ],
   "execution_count": 22
  },
  {
   "metadata": {
    "ExecuteTime": {
     "end_time": "2024-05-30T08:09:26.026250Z",
     "start_time": "2024-05-30T08:09:26.019244Z"
    }
   },
   "cell_type": "code",
   "source": "re.findall(r\"..at\",\"The cat in the hat sat splat\")  # .. you can place multiple wild cards, ",
   "id": "b4b38656c5e6eb15",
   "outputs": [
    {
     "data": {
      "text/plain": [
       "[' cat', ' hat', ' sat', 'plat']"
      ]
     },
     "execution_count": 23,
     "metadata": {},
     "output_type": "execute_result"
    }
   ],
   "execution_count": 23
  },
  {
   "metadata": {
    "ExecuteTime": {
     "end_time": "2024-05-30T08:12:46.250986Z",
     "start_time": "2024-05-30T08:12:46.245981Z"
    }
   },
   "cell_type": "code",
   "source": "re.findall(r\"\\d$\",\"This ends with a number 2\")  # $ means ends with ",
   "id": "f23fd1fbfd8fa28b",
   "outputs": [
    {
     "data": {
      "text/plain": [
       "['2']"
      ]
     },
     "execution_count": 25,
     "metadata": {},
     "output_type": "execute_result"
    }
   ],
   "execution_count": 25
  },
  {
   "metadata": {
    "ExecuteTime": {
     "end_time": "2024-05-30T08:23:15.778514Z",
     "start_time": "2024-05-30T08:23:15.770507Z"
    }
   },
   "cell_type": "code",
   "source": "re.findall(r\"^\\d\",\"1 is the loneliest number\")   # ^ start with ",
   "id": "c7a51fad312574c3",
   "outputs": [
    {
     "data": {
      "text/plain": [
       "['1']"
      ]
     },
     "execution_count": 36,
     "metadata": {},
     "output_type": "execute_result"
    }
   ],
   "execution_count": 36
  },
  {
   "metadata": {
    "ExecuteTime": {
     "end_time": "2024-05-30T08:23:15.998571Z",
     "start_time": "2024-05-30T08:23:15.992565Z"
    }
   },
   "cell_type": "code",
   "source": "phrase = \"there are 3 numbers 34 inside 5 this sentence\"",
   "id": "b9db096604babf48",
   "outputs": [],
   "execution_count": 37
  },
  {
   "metadata": {
    "ExecuteTime": {
     "end_time": "2024-05-30T08:23:16.141398Z",
     "start_time": "2024-05-30T08:23:16.121379Z"
    }
   },
   "cell_type": "code",
   "source": "re.findall(r\"[^\\d]\",phrase)  # square bracket means exclude any digits",
   "id": "ba9e706fe21bfbcb",
   "outputs": [
    {
     "data": {
      "text/plain": [
       "['t',\n",
       " 'h',\n",
       " 'e',\n",
       " 'r',\n",
       " 'e',\n",
       " ' ',\n",
       " 'a',\n",
       " 'r',\n",
       " 'e',\n",
       " ' ',\n",
       " ' ',\n",
       " 'n',\n",
       " 'u',\n",
       " 'm',\n",
       " 'b',\n",
       " 'e',\n",
       " 'r',\n",
       " 's',\n",
       " ' ',\n",
       " ' ',\n",
       " 'i',\n",
       " 'n',\n",
       " 's',\n",
       " 'i',\n",
       " 'd',\n",
       " 'e',\n",
       " ' ',\n",
       " ' ',\n",
       " 't',\n",
       " 'h',\n",
       " 'i',\n",
       " 's',\n",
       " ' ',\n",
       " 's',\n",
       " 'e',\n",
       " 'n',\n",
       " 't',\n",
       " 'e',\n",
       " 'n',\n",
       " 'c',\n",
       " 'e']"
      ]
     },
     "execution_count": 38,
     "metadata": {},
     "output_type": "execute_result"
    }
   ],
   "execution_count": 38
  },
  {
   "metadata": {
    "ExecuteTime": {
     "end_time": "2024-05-30T08:23:16.365603Z",
     "start_time": "2024-05-30T08:23:16.360599Z"
    }
   },
   "cell_type": "code",
   "source": "re.findall(r\"[^\\d]+\",phrase)  # square bracket means exclude any digits. + mean return back together",
   "id": "9f6a300cfb439c61",
   "outputs": [
    {
     "data": {
      "text/plain": [
       "['there are ', ' numbers ', ' inside ', ' this sentence']"
      ]
     },
     "execution_count": 39,
     "metadata": {},
     "output_type": "execute_result"
    }
   ],
   "execution_count": 39
  },
  {
   "metadata": {
    "ExecuteTime": {
     "end_time": "2024-05-30T08:16:59.289924Z",
     "start_time": "2024-05-30T08:16:59.271949Z"
    }
   },
   "cell_type": "code",
   "source": "test_phrase = \"This is a string! but it has puncutation. How to remove it?\"",
   "id": "33d67fc8060800dd",
   "outputs": [],
   "execution_count": 30
  },
  {
   "metadata": {
    "ExecuteTime": {
     "end_time": "2024-05-30T08:17:56.854227Z",
     "start_time": "2024-05-30T08:17:56.839215Z"
    }
   },
   "cell_type": "code",
   "source": "my_list= re.findall(r\"[^!.? ]+\",test_phrase)",
   "id": "33415c6747a7c429",
   "outputs": [],
   "execution_count": 32
  },
  {
   "metadata": {
    "ExecuteTime": {
     "end_time": "2024-05-30T08:18:32.793964Z",
     "start_time": "2024-05-30T08:18:32.788960Z"
    }
   },
   "cell_type": "code",
   "source": "' '.join(my_list)",
   "id": "fb04db854a3009e1",
   "outputs": [
    {
     "data": {
      "text/plain": [
       "'This is a string but it has puncutation How to remove it'"
      ]
     },
     "execution_count": 34,
     "metadata": {},
     "output_type": "execute_result"
    }
   ],
   "execution_count": 34
  },
  {
   "metadata": {
    "ExecuteTime": {
     "end_time": "2024-05-30T08:20:48.137676Z",
     "start_time": "2024-05-30T08:20:48.119660Z"
    }
   },
   "cell_type": "code",
   "source": "text = \"Only find the hyphen-words. Were are the long-ish dash words?\"",
   "id": "a4f609f81375533b",
   "outputs": [],
   "execution_count": 35
  },
  {
   "metadata": {
    "ExecuteTime": {
     "end_time": "2024-05-30T08:23:34.347527Z",
     "start_time": "2024-05-30T08:23:34.333514Z"
    }
   },
   "cell_type": "code",
   "source": "re.findall(r\"[\\w]+-[\\w]+\",text)",
   "id": "1cb1c4053e876e04",
   "outputs": [
    {
     "data": {
      "text/plain": [
       "['hyphen-words', 'long-ish']"
      ]
     },
     "execution_count": 42,
     "metadata": {},
     "output_type": "execute_result"
    }
   ],
   "execution_count": 42
  },
  {
   "metadata": {},
   "cell_type": "code",
   "outputs": [],
   "execution_count": null,
   "source": "",
   "id": "7398003cbdec9e8c"
  }
 ],
 "metadata": {
  "kernelspec": {
   "display_name": "Python 3",
   "language": "python",
   "name": "python3"
  },
  "language_info": {
   "codemirror_mode": {
    "name": "ipython",
    "version": 2
   },
   "file_extension": ".py",
   "mimetype": "text/x-python",
   "name": "python",
   "nbconvert_exporter": "python",
   "pygments_lexer": "ipython2",
   "version": "2.7.6"
  }
 },
 "nbformat": 4,
 "nbformat_minor": 5
}
