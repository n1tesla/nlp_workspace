{
 "cells": [
  {
   "cell_type": "code",
   "id": "initial_id",
   "metadata": {
    "collapsed": true,
    "ExecuteTime": {
     "end_time": "2024-05-30T06:11:23.841578Z",
     "start_time": "2024-05-30T06:11:23.820755Z"
    }
   },
   "source": "text = \"The phone number of the agent is 408-555-1234. Call soon!\"",
   "outputs": [],
   "execution_count": 1
  },
  {
   "metadata": {
    "ExecuteTime": {
     "end_time": "2024-05-30T06:11:30.951623Z",
     "start_time": "2024-05-30T06:11:30.938606Z"
    }
   },
   "cell_type": "code",
   "source": "\"phone\" in text",
   "id": "661f01e4bef96e67",
   "outputs": [
    {
     "data": {
      "text/plain": [
       "True"
      ]
     },
     "execution_count": 2,
     "metadata": {},
     "output_type": "execute_result"
    }
   ],
   "execution_count": 2
  },
  {
   "metadata": {
    "ExecuteTime": {
     "end_time": "2024-05-30T06:11:41.926474Z",
     "start_time": "2024-05-30T06:11:41.915463Z"
    }
   },
   "cell_type": "code",
   "source": "\"408-555-1234\" in text",
   "id": "620fcaae730aaf6",
   "outputs": [
    {
     "data": {
      "text/plain": [
       "True"
      ]
     },
     "execution_count": 3,
     "metadata": {},
     "output_type": "execute_result"
    }
   ],
   "execution_count": 3
  },
  {
   "metadata": {
    "ExecuteTime": {
     "end_time": "2024-05-30T06:11:49.234277Z",
     "start_time": "2024-05-30T06:11:49.227565Z"
    }
   },
   "cell_type": "code",
   "source": "\"503\" in text",
   "id": "178e7422f5eebd26",
   "outputs": [
    {
     "data": {
      "text/plain": [
       "False"
      ]
     },
     "execution_count": 4,
     "metadata": {},
     "output_type": "execute_result"
    }
   ],
   "execution_count": 4
  },
  {
   "metadata": {
    "ExecuteTime": {
     "end_time": "2024-05-30T06:11:57.190435Z",
     "start_time": "2024-05-30T06:11:57.184431Z"
    }
   },
   "cell_type": "code",
   "source": "import re ",
   "id": "93f72bc818f4d97e",
   "outputs": [],
   "execution_count": 5
  },
  {
   "metadata": {
    "ExecuteTime": {
     "end_time": "2024-05-30T06:12:05.313049Z",
     "start_time": "2024-05-30T06:12:05.309045Z"
    }
   },
   "cell_type": "code",
   "source": [
    "pattern = \"phone\"\n",
    "re.search(pattern,text)"
   ],
   "id": "10760f9d13c871b5",
   "outputs": [
    {
     "data": {
      "text/plain": [
       "<re.Match object; span=(4, 9), match='phone'>"
      ]
     },
     "execution_count": 6,
     "metadata": {},
     "output_type": "execute_result"
    }
   ],
   "execution_count": 6
  },
  {
   "metadata": {
    "ExecuteTime": {
     "end_time": "2024-05-30T06:12:36.095723Z",
     "start_time": "2024-05-30T06:12:36.077332Z"
    }
   },
   "cell_type": "code",
   "source": [
    "my_match = re.search(pattern,text)\n",
    "my_match.span()"
   ],
   "id": "dd51a212c0001917",
   "outputs": [
    {
     "data": {
      "text/plain": [
       "(4, 9)"
      ]
     },
     "execution_count": 7,
     "metadata": {},
     "output_type": "execute_result"
    }
   ],
   "execution_count": 7
  },
  {
   "metadata": {
    "ExecuteTime": {
     "end_time": "2024-05-30T06:12:54.821872Z",
     "start_time": "2024-05-30T06:12:54.812864Z"
    }
   },
   "cell_type": "code",
   "source": "my_match.start()",
   "id": "fcc4c77167394057",
   "outputs": [
    {
     "data": {
      "text/plain": [
       "4"
      ]
     },
     "execution_count": 8,
     "metadata": {},
     "output_type": "execute_result"
    }
   ],
   "execution_count": 8
  },
  {
   "metadata": {
    "ExecuteTime": {
     "end_time": "2024-05-30T06:14:01.418056Z",
     "start_time": "2024-05-30T06:14:01.407046Z"
    }
   },
   "cell_type": "code",
   "source": "my_match.end()",
   "id": "dab133f508e2089f",
   "outputs": [
    {
     "data": {
      "text/plain": [
       "9"
      ]
     },
     "execution_count": 9,
     "metadata": {},
     "output_type": "execute_result"
    }
   ],
   "execution_count": 9
  },
  {
   "metadata": {
    "ExecuteTime": {
     "end_time": "2024-05-30T06:14:09.879531Z",
     "start_time": "2024-05-30T06:14:09.871524Z"
    }
   },
   "cell_type": "code",
   "source": "text = \"my phone is a new phone\"",
   "id": "92e1662e277f3163",
   "outputs": [],
   "execution_count": 10
  },
  {
   "metadata": {
    "ExecuteTime": {
     "end_time": "2024-05-30T06:14:30.066650Z",
     "start_time": "2024-05-30T06:14:30.060644Z"
    }
   },
   "cell_type": "code",
   "source": [
    "match = re.search(pattern,text)\n",
    "match.span()"
   ],
   "id": "c3a96414382c0fbf",
   "outputs": [
    {
     "data": {
      "text/plain": [
       "(3, 8)"
      ]
     },
     "execution_count": 11,
     "metadata": {},
     "output_type": "execute_result"
    }
   ],
   "execution_count": 11
  },
  {
   "metadata": {
    "ExecuteTime": {
     "end_time": "2024-05-30T06:14:44.613559Z",
     "start_time": "2024-05-30T06:14:44.606552Z"
    }
   },
   "cell_type": "code",
   "source": "re.findall(\"phone\",text)",
   "id": "1434dfbd0da0e8aa",
   "outputs": [
    {
     "data": {
      "text/plain": [
       "['phone', 'phone']"
      ]
     },
     "execution_count": 12,
     "metadata": {},
     "output_type": "execute_result"
    }
   ],
   "execution_count": 12
  },
  {
   "metadata": {
    "ExecuteTime": {
     "end_time": "2024-05-30T06:15:44.375373Z",
     "start_time": "2024-05-30T06:15:44.362361Z"
    }
   },
   "cell_type": "code",
   "source": [
    "for match in re.finditer(\"phone\",text):\n",
    "    print(match.span())"
   ],
   "id": "ac938aaa51b17a65",
   "outputs": [
    {
     "name": "stdout",
     "output_type": "stream",
     "text": [
      "(3, 8)\n",
      "(18, 23)\n"
     ]
    }
   ],
   "execution_count": 14
  },
  {
   "metadata": {
    "ExecuteTime": {
     "end_time": "2024-05-30T07:52:05.873958Z",
     "start_time": "2024-05-30T07:52:05.868963Z"
    }
   },
   "cell_type": "code",
   "source": "text = \"my telephone number is 777-555-1234\"",
   "id": "efc3b46f84950074",
   "outputs": [],
   "execution_count": 16
  },
  {
   "metadata": {
    "ExecuteTime": {
     "end_time": "2024-05-30T07:55:38.476879Z",
     "start_time": "2024-05-30T07:55:38.463784Z"
    }
   },
   "cell_type": "code",
   "source": [
    "pattern = r'\\d{3}-\\d{3}-\\d{4}'\n",
    "result=re.search(pattern,text)"
   ],
   "id": "3e44a1f00b784be4",
   "outputs": [],
   "execution_count": 23
  },
  {
   "metadata": {
    "ExecuteTime": {
     "end_time": "2024-05-30T07:55:40.432660Z",
     "start_time": "2024-05-30T07:55:40.418545Z"
    }
   },
   "cell_type": "code",
   "source": "result",
   "id": "afa0cd55ecdaa50",
   "outputs": [
    {
     "data": {
      "text/plain": [
       "<re.Match object; span=(23, 35), match='777-555-1234'>"
      ]
     },
     "execution_count": 24,
     "metadata": {},
     "output_type": "execute_result"
    }
   ],
   "execution_count": 24
  },
  {
   "metadata": {},
   "cell_type": "code",
   "outputs": [],
   "execution_count": null,
   "source": "",
   "id": "364feff8a0dff0e7"
  }
 ],
 "metadata": {
  "kernelspec": {
   "display_name": "Python 3",
   "language": "python",
   "name": "python3"
  },
  "language_info": {
   "codemirror_mode": {
    "name": "ipython",
    "version": 2
   },
   "file_extension": ".py",
   "mimetype": "text/x-python",
   "name": "python",
   "nbconvert_exporter": "python",
   "pygments_lexer": "ipython2",
   "version": "2.7.6"
  }
 },
 "nbformat": 4,
 "nbformat_minor": 5
}
