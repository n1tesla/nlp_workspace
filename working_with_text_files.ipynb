{
 "cells": [
  {
   "cell_type": "code",
   "id": "initial_id",
   "metadata": {
    "collapsed": true,
    "ExecuteTime": {
     "end_time": "2024-05-28T12:51:09.688612Z",
     "start_time": "2024-05-28T12:51:09.668594Z"
    }
   },
   "source": [
    "%%writefile test.txt\n",
    "Hello, this is a quick test\n",
    "this is the second line of the file"
   ],
   "outputs": [
    {
     "name": "stdout",
     "output_type": "stream",
     "text": [
      "Writing test.txt\n"
     ]
    }
   ],
   "execution_count": 1
  },
  {
   "metadata": {
    "ExecuteTime": {
     "end_time": "2024-05-28T12:51:47.373331Z",
     "start_time": "2024-05-28T12:51:47.357316Z"
    }
   },
   "cell_type": "code",
   "source": [
    "myfile = open(\"test.txt\")\n",
    "myfile"
   ],
   "id": "6b8632e00919d245",
   "outputs": [
    {
     "data": {
      "text/plain": [
       "<_io.TextIOWrapper name='test.txt' mode='r' encoding='cp1252'>"
      ]
     },
     "execution_count": 2,
     "metadata": {},
     "output_type": "execute_result"
    }
   ],
   "execution_count": 2
  },
  {
   "metadata": {
    "ExecuteTime": {
     "end_time": "2024-05-28T12:54:04.164020Z",
     "start_time": "2024-05-28T12:54:04.146003Z"
    }
   },
   "cell_type": "code",
   "source": "myfile.read()",
   "id": "b8f66e0f1ef90bd5",
   "outputs": [
    {
     "data": {
      "text/plain": [
       "'Hello, this is a quick test\\nthis is the second line of the file\\n'"
      ]
     },
     "execution_count": 3,
     "metadata": {},
     "output_type": "execute_result"
    }
   ],
   "execution_count": 3
  },
  {
   "metadata": {
    "ExecuteTime": {
     "end_time": "2024-05-28T12:54:23.608127Z",
     "start_time": "2024-05-28T12:54:23.601115Z"
    }
   },
   "cell_type": "code",
   "source": "myfile.read()",
   "id": "67098140c3a4574e",
   "outputs": [
    {
     "data": {
      "text/plain": [
       "''"
      ]
     },
     "execution_count": 4,
     "metadata": {},
     "output_type": "execute_result"
    }
   ],
   "execution_count": 4
  },
  {
   "metadata": {
    "ExecuteTime": {
     "end_time": "2024-05-28T12:55:46.956345Z",
     "start_time": "2024-05-28T12:55:46.938088Z"
    }
   },
   "cell_type": "code",
   "source": "myfile.seek(0) # it resets cursor to 0 ",
   "id": "961461cb238b1b17",
   "outputs": [
    {
     "data": {
      "text/plain": [
       "0"
      ]
     },
     "execution_count": 8,
     "metadata": {},
     "output_type": "execute_result"
    }
   ],
   "execution_count": 8
  },
  {
   "metadata": {
    "ExecuteTime": {
     "end_time": "2024-05-28T12:55:47.615704Z",
     "start_time": "2024-05-28T12:55:47.596619Z"
    }
   },
   "cell_type": "code",
   "source": "content = myfile.read()",
   "id": "2bc0aa9122c528b",
   "outputs": [],
   "execution_count": 9
  },
  {
   "metadata": {
    "ExecuteTime": {
     "end_time": "2024-05-28T12:55:50.502952Z",
     "start_time": "2024-05-28T12:55:50.496959Z"
    }
   },
   "cell_type": "code",
   "source": "content",
   "id": "ad2c62ea08d0fbb8",
   "outputs": [
    {
     "data": {
      "text/plain": [
       "'Hello, this is a quick test\\nthis is the second line of the file\\n'"
      ]
     },
     "execution_count": 10,
     "metadata": {},
     "output_type": "execute_result"
    }
   ],
   "execution_count": 10
  },
  {
   "metadata": {
    "ExecuteTime": {
     "end_time": "2024-05-28T12:57:42.646011Z",
     "start_time": "2024-05-28T12:57:42.640005Z"
    }
   },
   "cell_type": "code",
   "source": "myfile.close()",
   "id": "219f6d754028ec97",
   "outputs": [],
   "execution_count": 11
  },
  {
   "metadata": {
    "ExecuteTime": {
     "end_time": "2024-05-28T12:59:21.270823Z",
     "start_time": "2024-05-28T12:59:21.252807Z"
    }
   },
   "cell_type": "code",
   "source": [
    "myfile = open(\"test.txt\")\n",
    "myfile.readlines()"
   ],
   "id": "83d7384bb5e6d628",
   "outputs": [
    {
     "data": {
      "text/plain": [
       "['Hello, this is a quick test\\n', 'this is the second line of the file\\n']"
      ]
     },
     "execution_count": 13,
     "metadata": {},
     "output_type": "execute_result"
    }
   ],
   "execution_count": 13
  },
  {
   "metadata": {
    "ExecuteTime": {
     "end_time": "2024-05-28T12:59:34.969854Z",
     "start_time": "2024-05-28T12:59:34.953840Z"
    }
   },
   "cell_type": "code",
   "source": "myfile.seek(0)",
   "id": "df75d3d4ebdc187b",
   "outputs": [
    {
     "data": {
      "text/plain": [
       "0"
      ]
     },
     "execution_count": 14,
     "metadata": {},
     "output_type": "execute_result"
    }
   ],
   "execution_count": 14
  },
  {
   "metadata": {
    "ExecuteTime": {
     "end_time": "2024-05-28T13:00:08.284980Z",
     "start_time": "2024-05-28T13:00:08.280976Z"
    }
   },
   "cell_type": "code",
   "source": [
    "mylines = myfile.readlines()\n",
    "for line in mylines:\n",
    "    print(line)"
   ],
   "id": "d017ebd37d7fbae0",
   "outputs": [
    {
     "name": "stdout",
     "output_type": "stream",
     "text": [
      "Hello, this is a quick test\n",
      "\n",
      "this is the second line of the file\n",
      "\n"
     ]
    }
   ],
   "execution_count": 15
  },
  {
   "metadata": {
    "ExecuteTime": {
     "end_time": "2024-05-28T13:02:29.942150Z",
     "start_time": "2024-05-28T13:02:29.928360Z"
    }
   },
   "cell_type": "code",
   "source": "myfile = open(\"test.txt\",mode=\"w+\") # you need use w+ carefully, it overwrites original file. ",
   "id": "5d2e42d830a574c6",
   "outputs": [],
   "execution_count": 16
  },
  {
   "metadata": {
    "ExecuteTime": {
     "end_time": "2024-05-28T13:02:59.648641Z",
     "start_time": "2024-05-28T13:02:59.637141Z"
    }
   },
   "cell_type": "code",
   "source": "myfile.read()",
   "id": "b5b4af13335c4034",
   "outputs": [
    {
     "data": {
      "text/plain": [
       "''"
      ]
     },
     "execution_count": 17,
     "metadata": {},
     "output_type": "execute_result"
    }
   ],
   "execution_count": 17
  },
  {
   "metadata": {
    "ExecuteTime": {
     "end_time": "2024-05-28T13:03:11.183897Z",
     "start_time": "2024-05-28T13:03:11.179893Z"
    }
   },
   "cell_type": "code",
   "source": "myfile.write(\"MY brand new text\")",
   "id": "b8d6528002e49653",
   "outputs": [
    {
     "data": {
      "text/plain": [
       "17"
      ]
     },
     "execution_count": 18,
     "metadata": {},
     "output_type": "execute_result"
    }
   ],
   "execution_count": 18
  },
  {
   "metadata": {
    "ExecuteTime": {
     "end_time": "2024-05-28T13:03:19.523272Z",
     "start_time": "2024-05-28T13:03:19.516265Z"
    }
   },
   "cell_type": "code",
   "source": "myfile.seek(0)",
   "id": "41205027d7927b3",
   "outputs": [
    {
     "data": {
      "text/plain": [
       "0"
      ]
     },
     "execution_count": 19,
     "metadata": {},
     "output_type": "execute_result"
    }
   ],
   "execution_count": 19
  },
  {
   "metadata": {
    "ExecuteTime": {
     "end_time": "2024-05-28T13:11:34.387897Z",
     "start_time": "2024-05-28T13:11:34.370881Z"
    }
   },
   "cell_type": "code",
   "source": "myfile.read()",
   "id": "14bc905e0e058c34",
   "outputs": [
    {
     "data": {
      "text/plain": [
       "''"
      ]
     },
     "execution_count": 29,
     "metadata": {},
     "output_type": "execute_result"
    }
   ],
   "execution_count": 29
  },
  {
   "metadata": {
    "ExecuteTime": {
     "end_time": "2024-05-28T13:11:34.639134Z",
     "start_time": "2024-05-28T13:11:34.611599Z"
    }
   },
   "cell_type": "code",
   "source": "myfile = open(\"whoops.txt\",\"a+\") # if there is no file, it wont raise error, it will create the file.",
   "id": "de7789112286e7c7",
   "outputs": [],
   "execution_count": 30
  },
  {
   "metadata": {
    "ExecuteTime": {
     "end_time": "2024-05-28T13:11:34.830166Z",
     "start_time": "2024-05-28T13:11:34.819609Z"
    }
   },
   "cell_type": "code",
   "source": "myfile.write(\"MY FIRST LINE IN A+ OPENING\")",
   "id": "11dbb23a46026534",
   "outputs": [
    {
     "data": {
      "text/plain": [
       "27"
      ]
     },
     "execution_count": 31,
     "metadata": {},
     "output_type": "execute_result"
    }
   ],
   "execution_count": 31
  },
  {
   "metadata": {
    "ExecuteTime": {
     "end_time": "2024-05-28T13:11:35.033537Z",
     "start_time": "2024-05-28T13:11:35.028533Z"
    }
   },
   "cell_type": "code",
   "source": "myfile.close()",
   "id": "1312d51383de3ea1",
   "outputs": [],
   "execution_count": 32
  },
  {
   "metadata": {
    "ExecuteTime": {
     "end_time": "2024-05-28T13:11:35.255800Z",
     "start_time": "2024-05-28T13:11:35.249804Z"
    }
   },
   "cell_type": "code",
   "source": "newfile = open(\"whoops.txt\")",
   "id": "cc893937532a95d",
   "outputs": [],
   "execution_count": 33
  },
  {
   "metadata": {
    "ExecuteTime": {
     "end_time": "2024-05-28T13:11:35.631942Z",
     "start_time": "2024-05-28T13:11:35.620933Z"
    }
   },
   "cell_type": "code",
   "source": "newfile.read()",
   "id": "db706db7ad5d555d",
   "outputs": [
    {
     "data": {
      "text/plain": [
       "'MY FIRST LINE IN A+ OPENINGMY FIRST LINE IN A+ OPENING'"
      ]
     },
     "execution_count": 34,
     "metadata": {},
     "output_type": "execute_result"
    }
   ],
   "execution_count": 34
  },
  {
   "metadata": {
    "ExecuteTime": {
     "end_time": "2024-05-28T13:12:20.355389Z",
     "start_time": "2024-05-28T13:12:20.346381Z"
    }
   },
   "cell_type": "code",
   "source": "newfile.write(\"try to write something with only read permissions\")   #it will give error, because of read permission",
   "id": "d38f36f6cda16538",
   "outputs": [],
   "execution_count": 35
  },
  {
   "metadata": {
    "ExecuteTime": {
     "end_time": "2024-05-28T13:12:31.292090Z",
     "start_time": "2024-05-28T13:12:31.277076Z"
    }
   },
   "cell_type": "code",
   "source": "newfile.close()",
   "id": "26501c8b788144fd",
   "outputs": [],
   "execution_count": 36
  },
  {
   "metadata": {
    "ExecuteTime": {
     "end_time": "2024-05-28T13:13:06.880476Z",
     "start_time": "2024-05-28T13:13:06.875471Z"
    }
   },
   "cell_type": "code",
   "source": [
    "myfile = open(\"whoops.txt\",mode=\"a+\")\n",
    "myfile.write('This is an added line, because I used a+ mode')"
   ],
   "id": "8427bc62674bdaa",
   "outputs": [
    {
     "data": {
      "text/plain": [
       "45"
      ]
     },
     "execution_count": 37,
     "metadata": {},
     "output_type": "execute_result"
    }
   ],
   "execution_count": 37
  },
  {
   "metadata": {
    "ExecuteTime": {
     "end_time": "2024-05-28T13:13:13.479364Z",
     "start_time": "2024-05-28T13:13:13.461348Z"
    }
   },
   "cell_type": "code",
   "source": "myfile.seek(0)",
   "id": "645e157f8b456d41",
   "outputs": [
    {
     "data": {
      "text/plain": [
       "0"
      ]
     },
     "execution_count": 38,
     "metadata": {},
     "output_type": "execute_result"
    }
   ],
   "execution_count": 38
  },
  {
   "metadata": {
    "ExecuteTime": {
     "end_time": "2024-05-28T13:13:16.340306Z",
     "start_time": "2024-05-28T13:13:16.331298Z"
    }
   },
   "cell_type": "code",
   "source": "myfile.read()",
   "id": "7f5ca2deb757ca00",
   "outputs": [
    {
     "data": {
      "text/plain": [
       "'MY FIRST LINE IN A+ OPENINGMY FIRST LINE IN A+ OPENINGThis is an added line, because I used a+ mode'"
      ]
     },
     "execution_count": 39,
     "metadata": {},
     "output_type": "execute_result"
    }
   ],
   "execution_count": 39
  },
  {
   "metadata": {
    "ExecuteTime": {
     "end_time": "2024-05-28T13:14:16.736082Z",
     "start_time": "2024-05-28T13:14:16.733079Z"
    }
   },
   "cell_type": "code",
   "source": "myfile.close()",
   "id": "2a016d0807542ff1",
   "outputs": [],
   "execution_count": 40
  },
  {
   "metadata": {},
   "cell_type": "code",
   "outputs": [],
   "execution_count": null,
   "source": [
    "with open(\"whoops.txt\",\"r\") as mynewfile:  #it will automatically close when you finish your job., because of context manager \n",
    "    myvariable = newfile.readlines()"
   ],
   "id": "ef101a6390d587da"
  }
 ],
 "metadata": {
  "kernelspec": {
   "display_name": "Python 3",
   "language": "python",
   "name": "python3"
  },
  "language_info": {
   "codemirror_mode": {
    "name": "ipython",
    "version": 2
   },
   "file_extension": ".py",
   "mimetype": "text/x-python",
   "name": "python",
   "nbconvert_exporter": "python",
   "pygments_lexer": "ipython2",
   "version": "2.7.6"
  }
 },
 "nbformat": 4,
 "nbformat_minor": 5
}
